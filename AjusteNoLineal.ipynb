{
 "cells": [
  {
   "cell_type": "code",
   "execution_count": null,
   "metadata": {},
   "outputs": [],
   "source": [
    "from fit_leastsq import fit_leastsq\n",
    "import numpy as np\n",
    "import matplotlib.pyplot as plt"
   ]
  },
  {
   "cell_type": "code",
   "execution_count": null,
   "metadata": {},
   "outputs": [],
   "source": [
    "x_exp, y_exp = np.loadtxt(fname=\"file.txt\", delimiter=\",\", skiprows=0, unpack=True, usecols=(0,1))"
   ]
  },
  {
   "cell_type": "code",
   "execution_count": null,
   "metadata": {},
   "outputs": [],
   "source": [
    "expF = lambda x, p0, p1, p2: p0 * (1-np.exp(-p1*x))+p2\n",
    "expFF = lambda x, p: expF(x, *p)"
   ]
  },
  {
   "cell_type": "code",
   "execution_count": null,
   "metadata": {},
   "outputs": [],
   "source": [
    "p_start = [0, 1, 1]\n",
    "pfit_ls, perr_ls = fit_leastsq(p_start, x_exp, y_exp, expFF)\n",
    "chi_sq = sum((expFF(x_exp, pfit_ls) - y_exp)**2/expFF(x_exp, pfit_ls))"
   ]
  },
  {
   "cell_type": "code",
   "execution_count": null,
   "metadata": {},
   "outputs": [],
   "source": [
    "n = x_exp.size\n",
    "x_teo = np.linspace(x_exp[0],x_exp[n-1],n*5)\n",
    "\n",
    "plt.plot(x_exp,y_exp, \"bo\", label = \"Exp.Data\")\n",
    "plt.plot(x_teo,expFF(x_teo, pfit_ls), \"r--\", label = \"No Linear Adj.\")\n",
    "plt.xlabel(\"x_data (Unit)\")\n",
    "plt.ylabel(\"y_data (Unit)\")\n",
    "plt.title(\"Title2\")\n",
    "plt.legend()\n",
    "plt.savefig(\"noLinearAdjust.png\")\n",
    "plt.show()"
   ]
  }
 ],
 "metadata": {
  "language_info": {
   "name": "python"
  },
  "orig_nbformat": 4
 },
 "nbformat": 4,
 "nbformat_minor": 2
}
